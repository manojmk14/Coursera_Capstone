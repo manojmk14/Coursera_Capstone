{
 "cells": [
  {
   "cell_type": "markdown",
   "metadata": {
    "collapsed": true
   },
   "source": [
    "<H1>The-Battle-of-Neighborhoods</H1>"
   ]
  },
  {
   "cell_type": "markdown",
   "metadata": {},
   "source": [
    "<h3>Problem 1.</h3> Which city amongst these is best to stay if you have to survive only on pizza?<br>\n",
    "<h3>Problem 2.</h3> Which city amongst these should one consider if you want to setup a pizza outlet."
   ]
  },
  {
   "cell_type": "markdown",
   "metadata": {},
   "source": [
    "<h3>Introduction</h3>\n",
    "Have taken few major Indian cities like Mumbai, Delhi, Kolkata, Pune & Bangaluru to do the above analysis. Suppose if you have to visit one of the cities then which city would you go to where you get pizza easily and one don’t need to travel far for the pizza. Solving the first scenario we get to solve one more problem that’s if say suppose one wants to invest or start a pizza outlet then one should invest in which cities from the above selected cities?"
   ]
  },
  {
   "cell_type": "markdown",
   "metadata": {},
   "source": [
    "So it for people who want to go to a place with a high density of Pizza around them. The problem we aim to solve is to analyze the Pizza stores’ locations in these Indian cities and find the best place for our tourist so that he can have a good time enjoying the piza. Our main target are tourists with a taste of western-style pizza.\n",
    "Second is for those peoples who are looking for the best cities to start piza outlets.\n",
    "<br><br>\n",
    "So it for people who want to go to a place with a high density of Pizza around them. The problem we aim to solve is to analyze the Pizza stores’ locations in these Indian cities and find the best place for our tourist so that he can have a good time enjoying the pizza. Our main target are tourists with a taste of western-style pizza.\n",
    "Second is for those peoples who are looking for the best cities to start pizza outlets.\n",
    "<br><br>\n",
    "Will use the FourSquare API to collect data about locations of Pizza stores in major Indian cities which are: \n",
    "Mumbai, Delhi, Kolkata, Pune & Bangaluru, these are few of the most populated Indian cities and I am hopeful that they will contain the best Pizza places in that cities.\n",
    "Using the same Api and dataset we will also try to figure out which city has lesser density of pizza outlets , making way for setting up new pizza outlet opportunities.\n",
    "\n"
   ]
  },
  {
   "cell_type": "markdown",
   "metadata": {},
   "source": [
    "<h3>Methodology</h3>"
   ]
  },
  {
   "cell_type": "markdown",
   "metadata": {},
   "source": [
    "The main target here is to asses which city would have the highest Pizza store density. I used the Four Square API through the venue channel. I used the near query to get venues in the cities. Also, I use the CategoryID to set it to show only Pizza Places. \n",
    "API Request format for Venue : .e.g.https://api.foursquare.com/v2/venues/explore?&client_id=&client_secret=&v=20180605&Mumbaik,Delhi&limit=100&categoryId=4bf58dd8d48988d1ca941735\n",
    "Also, Foursquare limits us to maximum of 100 venues per query.\n",
    "Moreover, I repeated this request for the 5 studied cities and got their top 100 venues. I saved the name and coordinate data only from the result and plotted them on the map for visual inspection.Next, to get an indicator of the density of Pizza Places, I calculated a center coordinate of the venues to get the mean longitude and latitude values. Then calculated the mean of the Euclidean distance from each venue to the mean coordinates. That was my indicator; mean distance to the mean coordinate. Using these methodology, we will be soloving the above two solution."
   ]
  },
  {
   "cell_type": "code",
   "execution_count": null,
   "metadata": {},
   "outputs": [],
   "source": []
  }
 ],
 "metadata": {
  "kernelspec": {
   "display_name": "Python 3.6",
   "language": "python",
   "name": "python3"
  },
  "language_info": {
   "codemirror_mode": {
    "name": "ipython",
    "version": 3
   },
   "file_extension": ".py",
   "mimetype": "text/x-python",
   "name": "python",
   "nbconvert_exporter": "python",
   "pygments_lexer": "ipython3",
   "version": "3.6.9"
  }
 },
 "nbformat": 4,
 "nbformat_minor": 1
}
